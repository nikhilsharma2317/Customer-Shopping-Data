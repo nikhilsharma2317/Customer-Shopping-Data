{
 "cells": [
  {
   "cell_type": "markdown",
   "id": "c70dffc7",
   "metadata": {},
   "source": [
    "## Customer Shopping Data"
   ]
  },
  {
   "cell_type": "markdown",
   "id": "c7cb2015",
   "metadata": {},
   "source": [
    "Import Necessary Libraries:"
   ]
  },
  {
   "cell_type": "code",
   "execution_count": 1,
   "id": "3d4f41f3",
   "metadata": {},
   "outputs": [],
   "source": [
    "import numpy as np\n",
    "import pandas as pd\n",
    "import matplotlib.pyplot as plt\n",
    "import seaborn as sns\n",
    "import os\n",
    "import glob"
   ]
  },
  {
   "cell_type": "markdown",
   "id": "4e362a39",
   "metadata": {},
   "source": [
    "1. Get Data"
   ]
  },
  {
   "cell_type": "code",
   "execution_count": 2,
   "id": "96f417e6",
   "metadata": {},
   "outputs": [],
   "source": [
    "# Get data file names\n",
    "cs = pd.read_csv('/Users/nikhilsharma/Desktop/Data/Datasets/customer_shopping_data.csv')"
   ]
  },
  {
   "cell_type": "markdown",
   "id": "6f8efca1",
   "metadata": {},
   "source": [
    "2. Check Data Shape"
   ]
  },
  {
   "cell_type": "code",
   "execution_count": 3,
   "id": "2744af12",
   "metadata": {},
   "outputs": [
    {
     "name": "stdout",
     "output_type": "stream",
     "text": [
      "(99457, 10)\n"
     ]
    }
   ],
   "source": [
    "print(cs.shape)"
   ]
  },
  {
   "cell_type": "markdown",
   "id": "8027e25e",
   "metadata": {},
   "source": [
    "3. Check Data Columns"
   ]
  },
  {
   "cell_type": "code",
   "execution_count": 4,
   "id": "b5c30248",
   "metadata": {},
   "outputs": [
    {
     "name": "stdout",
     "output_type": "stream",
     "text": [
      "Index(['invoice_no', 'customer_id', 'gender', 'age', 'category', 'quantity',\n",
      "       'price', 'payment_method', 'invoice_date', 'shopping_mall'],\n",
      "      dtype='object')\n"
     ]
    }
   ],
   "source": [
    "print(cs.columns)"
   ]
  },
  {
   "cell_type": "markdown",
   "id": "f7950843",
   "metadata": {},
   "source": [
    "4. Check Data Types"
   ]
  },
  {
   "cell_type": "code",
   "execution_count": 5,
   "id": "662a1a79",
   "metadata": {},
   "outputs": [
    {
     "name": "stdout",
     "output_type": "stream",
     "text": [
      "0          5/8/2022\n",
      "1        12/12/2021\n",
      "2         9/11/2021\n",
      "3        16/05/2021\n",
      "4        24/10/2021\n",
      "            ...    \n",
      "99452    21/09/2022\n",
      "99453    22/09/2021\n",
      "99454    28/03/2021\n",
      "99455    16/03/2021\n",
      "99456    15/10/2022\n",
      "Name: invoice_date, Length: 99457, dtype: object\n"
     ]
    }
   ],
   "source": [
    "cs.dtypes\n",
    "print(cs['invoice_date'])"
   ]
  },
  {
   "cell_type": "markdown",
   "id": "2fada2bc",
   "metadata": {},
   "source": [
    "5. Convert Invoice Date to Datetime Type"
   ]
  },
  {
   "cell_type": "code",
   "execution_count": 6,
   "id": "31b006d9",
   "metadata": {},
   "outputs": [
    {
     "name": "stdout",
     "output_type": "stream",
     "text": [
      "0       2022-08-05\n",
      "1       2021-12-12\n",
      "2       2021-11-09\n",
      "3       2021-05-16\n",
      "4       2021-10-24\n",
      "           ...    \n",
      "99452   2022-09-21\n",
      "99453   2021-09-22\n",
      "99454   2021-03-28\n",
      "99455   2021-03-16\n",
      "99456   2022-10-15\n",
      "Name: invoice_date, Length: 99457, dtype: datetime64[ns]\n"
     ]
    }
   ],
   "source": [
    "cs['invoice_date'] = pd.to_datetime(cs['invoice_date'], format='%d/%m/%Y')\n",
    "print(cs['invoice_date'])"
   ]
  },
  {
   "cell_type": "markdown",
   "id": "de92c235",
   "metadata": {},
   "source": [
    "6. Create Date, Month & Year Columns from Invoice Date"
   ]
  },
  {
   "cell_type": "code",
   "execution_count": 7,
   "id": "71f0acac",
   "metadata": {},
   "outputs": [
    {
     "name": "stdout",
     "output_type": "stream",
     "text": [
      "invoice_no                object\n",
      "customer_id               object\n",
      "gender                    object\n",
      "age                        int64\n",
      "category                  object\n",
      "quantity                   int64\n",
      "price                    float64\n",
      "payment_method            object\n",
      "invoice_date      datetime64[ns]\n",
      "shopping_mall             object\n",
      "year_invoice               int64\n",
      "month_invoice              int64\n",
      "date_invoice               int64\n",
      "dtype: object\n"
     ]
    }
   ],
   "source": [
    "cs['year_invoice'] = cs['invoice_date'].dt.year\n",
    "cs['month_invoice'] = cs['invoice_date'].dt.month\n",
    "cs['date_invoice'] = cs['invoice_date'].dt.day\n",
    "\n",
    "print(cs.dtypes)"
   ]
  },
  {
   "cell_type": "markdown",
   "id": "a4ffacc3",
   "metadata": {},
   "source": [
    "7. Check for Missing Values"
   ]
  },
  {
   "cell_type": "code",
   "execution_count": 8,
   "id": "2ff407d1",
   "metadata": {
    "scrolled": false
   },
   "outputs": [
    {
     "data": {
      "text/plain": [
       "invoice_no        0\n",
       "customer_id       0\n",
       "gender            0\n",
       "age               0\n",
       "category          0\n",
       "quantity          0\n",
       "price             0\n",
       "payment_method    0\n",
       "invoice_date      0\n",
       "shopping_mall     0\n",
       "year_invoice      0\n",
       "month_invoice     0\n",
       "date_invoice      0\n",
       "dtype: int64"
      ]
     },
     "execution_count": 8,
     "metadata": {},
     "output_type": "execute_result"
    }
   ],
   "source": [
    "cs.isna().any()\n",
    "cs.isna().sum()"
   ]
  },
  {
   "cell_type": "markdown",
   "id": "9b998d0c",
   "metadata": {},
   "source": [
    "8. Number & Proportion of Categories"
   ]
  },
  {
   "cell_type": "code",
   "execution_count": 9,
   "id": "59ce6348",
   "metadata": {
    "scrolled": true
   },
   "outputs": [
    {
     "name": "stdout",
     "output_type": "stream",
     "text": [
      "Clothing           34487\n",
      "Cosmetics          15097\n",
      "Food & Beverage    14776\n",
      "Toys               10087\n",
      "Shoes              10034\n",
      "Souvenir            4999\n",
      "Technology          4996\n",
      "Books               4981\n",
      "Name: category, dtype: int64\n",
      "Clothing           0.346753\n",
      "Cosmetics          0.151794\n",
      "Food & Beverage    0.148567\n",
      "Toys               0.101421\n",
      "Shoes              0.100888\n",
      "Souvenir           0.050263\n",
      "Technology         0.050233\n",
      "Books              0.050082\n",
      "Name: category, dtype: float64\n"
     ]
    }
   ],
   "source": [
    "print(cs['category'].value_counts())\n",
    "print(cs['category'].value_counts(normalize=True))"
   ]
  },
  {
   "cell_type": "markdown",
   "id": "f0eecb8e",
   "metadata": {},
   "source": [
    "9. Gender Count"
   ]
  },
  {
   "cell_type": "code",
   "execution_count": 10,
   "id": "e874ef59",
   "metadata": {},
   "outputs": [
    {
     "name": "stdout",
     "output_type": "stream",
     "text": [
      "Female    59482\n",
      "Male      39975\n",
      "Name: gender, dtype: int64\n",
      "Female    0.598068\n",
      "Male      0.401932\n",
      "Name: gender, dtype: float64\n"
     ]
    }
   ],
   "source": [
    "print(cs['gender'].value_counts())\n",
    "print(cs['gender'].value_counts(normalize=True))"
   ]
  },
  {
   "cell_type": "markdown",
   "id": "2600ad27",
   "metadata": {},
   "source": [
    "10. Age Count"
   ]
  },
  {
   "cell_type": "code",
   "execution_count": 11,
   "id": "5159a55b",
   "metadata": {},
   "outputs": [
    {
     "name": "stdout",
     "output_type": "stream",
     "text": [
      "37    2057\n",
      "22    2051\n",
      "64    2002\n",
      "43    2000\n",
      "51    1993\n",
      "Name: age, dtype: int64\n",
      "37    0.020682\n",
      "22    0.020622\n",
      "64    0.020129\n",
      "43    0.020109\n",
      "51    0.020039\n",
      "Name: age, dtype: float64\n"
     ]
    }
   ],
   "source": [
    "print(cs['age'].value_counts().head(5))\n",
    "print(cs['age'].value_counts(normalize=True).head(5))"
   ]
  },
  {
   "cell_type": "markdown",
   "id": "63fff314",
   "metadata": {},
   "source": [
    "11. Payment Method Count"
   ]
  },
  {
   "cell_type": "code",
   "execution_count": 12,
   "id": "22976053",
   "metadata": {},
   "outputs": [
    {
     "name": "stdout",
     "output_type": "stream",
     "text": [
      "Cash           44447\n",
      "Credit Card    34931\n",
      "Debit Card     20079\n",
      "Name: payment_method, dtype: int64\n",
      "Cash           0.446897\n",
      "Credit Card    0.351217\n",
      "Debit Card     0.201886\n",
      "Name: payment_method, dtype: float64\n"
     ]
    }
   ],
   "source": [
    "print(cs['payment_method'].value_counts())\n",
    "print(cs['payment_method'].value_counts(normalize=True))"
   ]
  },
  {
   "cell_type": "markdown",
   "id": "930036b8",
   "metadata": {},
   "source": [
    "12. Shopping Mall Count"
   ]
  },
  {
   "cell_type": "code",
   "execution_count": 13,
   "id": "c33b0942",
   "metadata": {},
   "outputs": [
    {
     "name": "stdout",
     "output_type": "stream",
     "text": [
      "Mall of Istanbul     19943\n",
      "Kanyon               19823\n",
      "Metrocity            15011\n",
      "Metropol AVM         10161\n",
      "Istinye Park          9781\n",
      "Zorlu Center          5075\n",
      "Cevahir AVM           4991\n",
      "Forum Istanbul        4947\n",
      "Viaport Outlet        4914\n",
      "Emaar Square Mall     4811\n",
      "Name: shopping_mall, dtype: int64\n",
      "Mall of Istanbul     0.200519\n",
      "Kanyon               0.199312\n",
      "Metrocity            0.150930\n",
      "Metropol AVM         0.102165\n",
      "Istinye Park         0.098344\n",
      "Zorlu Center         0.051027\n",
      "Cevahir AVM          0.050182\n",
      "Forum Istanbul       0.049740\n",
      "Viaport Outlet       0.049408\n",
      "Emaar Square Mall    0.048373\n",
      "Name: shopping_mall, dtype: float64\n"
     ]
    }
   ],
   "source": [
    "print(cs['shopping_mall'].value_counts())\n",
    "\n",
    "print(cs['shopping_mall'].value_counts(normalize=True))"
   ]
  },
  {
   "cell_type": "markdown",
   "id": "9a57f4d4",
   "metadata": {},
   "source": [
    "13. Invoice Date Count"
   ]
  },
  {
   "cell_type": "code",
   "execution_count": 14,
   "id": "875ddc6a",
   "metadata": {},
   "outputs": [
    {
     "name": "stdout",
     "output_type": "stream",
     "text": [
      "2021-11-24    159\n",
      "2023-02-26    156\n",
      "2021-01-06    155\n",
      "2022-07-25    155\n",
      "2022-10-23    155\n",
      "             ... \n",
      "2021-10-27     98\n",
      "2021-05-29     98\n",
      "2021-09-30     96\n",
      "2021-12-02     94\n",
      "2022-01-16     93\n",
      "Name: invoice_date, Length: 797, dtype: int64\n",
      "2021-11-24    0.001599\n",
      "2023-02-26    0.001569\n",
      "2021-01-06    0.001558\n",
      "2022-07-25    0.001558\n",
      "2022-10-23    0.001558\n",
      "                ...   \n",
      "2021-10-27    0.000985\n",
      "2021-05-29    0.000985\n",
      "2021-09-30    0.000965\n",
      "2021-12-02    0.000945\n",
      "2022-01-16    0.000935\n",
      "Name: invoice_date, Length: 797, dtype: float64\n"
     ]
    }
   ],
   "source": [
    "print(cs['invoice_date'].value_counts())\n",
    "print(cs['invoice_date'].value_counts(normalize=True))"
   ]
  },
  {
   "cell_type": "markdown",
   "id": "338b678f",
   "metadata": {},
   "source": [
    "14. Invoice Year Count"
   ]
  },
  {
   "cell_type": "code",
   "execution_count": 15,
   "id": "1b95767b",
   "metadata": {},
   "outputs": [
    {
     "name": "stdout",
     "output_type": "stream",
     "text": [
      "2022    45551\n",
      "2021    45382\n",
      "2023     8524\n",
      "Name: year_invoice, dtype: int64\n",
      "2022    0.457997\n",
      "2021    0.456298\n",
      "2023    0.085705\n",
      "Name: year_invoice, dtype: float64\n"
     ]
    }
   ],
   "source": [
    "print(cs['year_invoice'].value_counts())\n",
    "print(cs['year_invoice'].value_counts(normalize=True))"
   ]
  },
  {
   "cell_type": "markdown",
   "id": "bd7c0da5",
   "metadata": {},
   "source": [
    "15. Invoice Month Count"
   ]
  },
  {
   "cell_type": "code",
   "execution_count": 16,
   "id": "7fba52e7",
   "metadata": {},
   "outputs": [
    {
     "name": "stdout",
     "output_type": "stream",
     "text": [
      "1     11608\n",
      "2     10482\n",
      "3      8730\n",
      "7      7877\n",
      "10     7764\n",
      "5      7697\n",
      "12     7680\n",
      "8      7635\n",
      "6      7581\n",
      "11     7563\n",
      "4      7487\n",
      "9      7353\n",
      "Name: month_invoice, dtype: int64\n",
      "1     0.116714\n",
      "2     0.105392\n",
      "3     0.087777\n",
      "7     0.079200\n",
      "10    0.078064\n",
      "5     0.077390\n",
      "12    0.077219\n",
      "8     0.076767\n",
      "6     0.076224\n",
      "11    0.076043\n",
      "4     0.075279\n",
      "9     0.073931\n",
      "Name: month_invoice, dtype: float64\n"
     ]
    }
   ],
   "source": [
    "print(cs['month_invoice'].value_counts())\n",
    "print(cs['month_invoice'].value_counts(normalize=True))"
   ]
  },
  {
   "cell_type": "markdown",
   "id": "4d568714",
   "metadata": {},
   "source": [
    "16. Invoice Day Count"
   ]
  },
  {
   "cell_type": "code",
   "execution_count": 17,
   "id": "ab68c0a3",
   "metadata": {},
   "outputs": [
    {
     "name": "stdout",
     "output_type": "stream",
     "text": [
      "3    3426\n",
      "4    3422\n",
      "5    3419\n",
      "7    3401\n",
      "6    3396\n",
      "Name: date_invoice, dtype: int64\n",
      "3    0.034447\n",
      "4    0.034407\n",
      "5    0.034377\n",
      "7    0.034196\n",
      "6    0.034145\n",
      "Name: date_invoice, dtype: float64\n"
     ]
    }
   ],
   "source": [
    "print(cs['date_invoice'].value_counts().head())\n",
    "print(cs['date_invoice'].value_counts(normalize=True).head())"
   ]
  },
  {
   "cell_type": "markdown",
   "id": "5279c67c",
   "metadata": {},
   "source": [
    "17. Max & Min Date"
   ]
  },
  {
   "cell_type": "code",
   "execution_count": 18,
   "id": "b35d9584",
   "metadata": {},
   "outputs": [
    {
     "name": "stdout",
     "output_type": "stream",
     "text": [
      "2021-01-01 00:00:00  to  2023-03-08 00:00:00\n"
     ]
    }
   ],
   "source": [
    "print(cs['invoice_date'].min() , ' to ' ,cs['invoice_date'].max())"
   ]
  },
  {
   "cell_type": "markdown",
   "id": "b1a210c1",
   "metadata": {},
   "source": [
    "18. Calculate Revenue"
   ]
  },
  {
   "cell_type": "code",
   "execution_count": 19,
   "id": "88410c3f",
   "metadata": {},
   "outputs": [],
   "source": [
    "cs['revenue']= cs['price'] * cs['quantity']"
   ]
  },
  {
   "cell_type": "markdown",
   "id": "486b6f23",
   "metadata": {},
   "source": [
    "19. Sort by Revenue"
   ]
  },
  {
   "cell_type": "code",
   "execution_count": 20,
   "id": "9fb2ae42",
   "metadata": {},
   "outputs": [
    {
     "data": {
      "text/html": [
       "<div>\n",
       "<style scoped>\n",
       "    .dataframe tbody tr th:only-of-type {\n",
       "        vertical-align: middle;\n",
       "    }\n",
       "\n",
       "    .dataframe tbody tr th {\n",
       "        vertical-align: top;\n",
       "    }\n",
       "\n",
       "    .dataframe thead th {\n",
       "        text-align: right;\n",
       "    }\n",
       "</style>\n",
       "<table border=\"1\" class=\"dataframe\">\n",
       "  <thead>\n",
       "    <tr style=\"text-align: right;\">\n",
       "      <th></th>\n",
       "      <th>invoice_no</th>\n",
       "      <th>customer_id</th>\n",
       "      <th>gender</th>\n",
       "      <th>age</th>\n",
       "      <th>category</th>\n",
       "      <th>quantity</th>\n",
       "      <th>price</th>\n",
       "      <th>payment_method</th>\n",
       "      <th>invoice_date</th>\n",
       "      <th>shopping_mall</th>\n",
       "      <th>year_invoice</th>\n",
       "      <th>month_invoice</th>\n",
       "      <th>date_invoice</th>\n",
       "      <th>revenue</th>\n",
       "    </tr>\n",
       "  </thead>\n",
       "  <tbody>\n",
       "    <tr>\n",
       "      <th>66026</th>\n",
       "      <td>I251006</td>\n",
       "      <td>C115362</td>\n",
       "      <td>Male</td>\n",
       "      <td>28</td>\n",
       "      <td>Technology</td>\n",
       "      <td>5</td>\n",
       "      <td>5250.00</td>\n",
       "      <td>Cash</td>\n",
       "      <td>2021-07-16</td>\n",
       "      <td>Metropol AVM</td>\n",
       "      <td>2021</td>\n",
       "      <td>7</td>\n",
       "      <td>16</td>\n",
       "      <td>26250.00</td>\n",
       "    </tr>\n",
       "    <tr>\n",
       "      <th>32502</th>\n",
       "      <td>I327417</td>\n",
       "      <td>C277412</td>\n",
       "      <td>Female</td>\n",
       "      <td>56</td>\n",
       "      <td>Technology</td>\n",
       "      <td>5</td>\n",
       "      <td>5250.00</td>\n",
       "      <td>Cash</td>\n",
       "      <td>2021-10-28</td>\n",
       "      <td>Metropol AVM</td>\n",
       "      <td>2021</td>\n",
       "      <td>10</td>\n",
       "      <td>28</td>\n",
       "      <td>26250.00</td>\n",
       "    </tr>\n",
       "    <tr>\n",
       "      <th>50508</th>\n",
       "      <td>I129008</td>\n",
       "      <td>C816362</td>\n",
       "      <td>Female</td>\n",
       "      <td>39</td>\n",
       "      <td>Technology</td>\n",
       "      <td>5</td>\n",
       "      <td>5250.00</td>\n",
       "      <td>Cash</td>\n",
       "      <td>2022-09-23</td>\n",
       "      <td>Istinye Park</td>\n",
       "      <td>2022</td>\n",
       "      <td>9</td>\n",
       "      <td>23</td>\n",
       "      <td>26250.00</td>\n",
       "    </tr>\n",
       "    <tr>\n",
       "      <th>32479</th>\n",
       "      <td>I213740</td>\n",
       "      <td>C968145</td>\n",
       "      <td>Male</td>\n",
       "      <td>69</td>\n",
       "      <td>Technology</td>\n",
       "      <td>5</td>\n",
       "      <td>5250.00</td>\n",
       "      <td>Cash</td>\n",
       "      <td>2022-09-13</td>\n",
       "      <td>Istinye Park</td>\n",
       "      <td>2022</td>\n",
       "      <td>9</td>\n",
       "      <td>13</td>\n",
       "      <td>26250.00</td>\n",
       "    </tr>\n",
       "    <tr>\n",
       "      <th>96366</th>\n",
       "      <td>I216069</td>\n",
       "      <td>C491682</td>\n",
       "      <td>Male</td>\n",
       "      <td>69</td>\n",
       "      <td>Technology</td>\n",
       "      <td>5</td>\n",
       "      <td>5250.00</td>\n",
       "      <td>Cash</td>\n",
       "      <td>2021-10-03</td>\n",
       "      <td>Kanyon</td>\n",
       "      <td>2021</td>\n",
       "      <td>10</td>\n",
       "      <td>3</td>\n",
       "      <td>26250.00</td>\n",
       "    </tr>\n",
       "    <tr>\n",
       "      <th>...</th>\n",
       "      <td>...</td>\n",
       "      <td>...</td>\n",
       "      <td>...</td>\n",
       "      <td>...</td>\n",
       "      <td>...</td>\n",
       "      <td>...</td>\n",
       "      <td>...</td>\n",
       "      <td>...</td>\n",
       "      <td>...</td>\n",
       "      <td>...</td>\n",
       "      <td>...</td>\n",
       "      <td>...</td>\n",
       "      <td>...</td>\n",
       "      <td>...</td>\n",
       "    </tr>\n",
       "    <tr>\n",
       "      <th>87725</th>\n",
       "      <td>I218551</td>\n",
       "      <td>C118564</td>\n",
       "      <td>Male</td>\n",
       "      <td>53</td>\n",
       "      <td>Food &amp; Beverage</td>\n",
       "      <td>1</td>\n",
       "      <td>5.23</td>\n",
       "      <td>Debit Card</td>\n",
       "      <td>2021-10-18</td>\n",
       "      <td>Metrocity</td>\n",
       "      <td>2021</td>\n",
       "      <td>10</td>\n",
       "      <td>18</td>\n",
       "      <td>5.23</td>\n",
       "    </tr>\n",
       "    <tr>\n",
       "      <th>36537</th>\n",
       "      <td>I255926</td>\n",
       "      <td>C249889</td>\n",
       "      <td>Female</td>\n",
       "      <td>55</td>\n",
       "      <td>Food &amp; Beverage</td>\n",
       "      <td>1</td>\n",
       "      <td>5.23</td>\n",
       "      <td>Credit Card</td>\n",
       "      <td>2021-05-27</td>\n",
       "      <td>Metropol AVM</td>\n",
       "      <td>2021</td>\n",
       "      <td>5</td>\n",
       "      <td>27</td>\n",
       "      <td>5.23</td>\n",
       "    </tr>\n",
       "    <tr>\n",
       "      <th>36573</th>\n",
       "      <td>I669105</td>\n",
       "      <td>C267906</td>\n",
       "      <td>Female</td>\n",
       "      <td>25</td>\n",
       "      <td>Food &amp; Beverage</td>\n",
       "      <td>1</td>\n",
       "      <td>5.23</td>\n",
       "      <td>Cash</td>\n",
       "      <td>2021-05-07</td>\n",
       "      <td>Kanyon</td>\n",
       "      <td>2021</td>\n",
       "      <td>5</td>\n",
       "      <td>7</td>\n",
       "      <td>5.23</td>\n",
       "    </tr>\n",
       "    <tr>\n",
       "      <th>69858</th>\n",
       "      <td>I199671</td>\n",
       "      <td>C708302</td>\n",
       "      <td>Female</td>\n",
       "      <td>25</td>\n",
       "      <td>Food &amp; Beverage</td>\n",
       "      <td>1</td>\n",
       "      <td>5.23</td>\n",
       "      <td>Credit Card</td>\n",
       "      <td>2022-10-03</td>\n",
       "      <td>Cevahir AVM</td>\n",
       "      <td>2022</td>\n",
       "      <td>10</td>\n",
       "      <td>3</td>\n",
       "      <td>5.23</td>\n",
       "    </tr>\n",
       "    <tr>\n",
       "      <th>95607</th>\n",
       "      <td>I339399</td>\n",
       "      <td>C331298</td>\n",
       "      <td>Female</td>\n",
       "      <td>56</td>\n",
       "      <td>Food &amp; Beverage</td>\n",
       "      <td>1</td>\n",
       "      <td>5.23</td>\n",
       "      <td>Cash</td>\n",
       "      <td>2021-03-12</td>\n",
       "      <td>Kanyon</td>\n",
       "      <td>2021</td>\n",
       "      <td>3</td>\n",
       "      <td>12</td>\n",
       "      <td>5.23</td>\n",
       "    </tr>\n",
       "  </tbody>\n",
       "</table>\n",
       "<p>99457 rows × 14 columns</p>\n",
       "</div>"
      ],
      "text/plain": [
       "      invoice_no customer_id  gender  age         category  quantity    price  \\\n",
       "66026    I251006     C115362    Male   28       Technology         5  5250.00   \n",
       "32502    I327417     C277412  Female   56       Technology         5  5250.00   \n",
       "50508    I129008     C816362  Female   39       Technology         5  5250.00   \n",
       "32479    I213740     C968145    Male   69       Technology         5  5250.00   \n",
       "96366    I216069     C491682    Male   69       Technology         5  5250.00   \n",
       "...          ...         ...     ...  ...              ...       ...      ...   \n",
       "87725    I218551     C118564    Male   53  Food & Beverage         1     5.23   \n",
       "36537    I255926     C249889  Female   55  Food & Beverage         1     5.23   \n",
       "36573    I669105     C267906  Female   25  Food & Beverage         1     5.23   \n",
       "69858    I199671     C708302  Female   25  Food & Beverage         1     5.23   \n",
       "95607    I339399     C331298  Female   56  Food & Beverage         1     5.23   \n",
       "\n",
       "      payment_method invoice_date shopping_mall  year_invoice  month_invoice  \\\n",
       "66026           Cash   2021-07-16  Metropol AVM          2021              7   \n",
       "32502           Cash   2021-10-28  Metropol AVM          2021             10   \n",
       "50508           Cash   2022-09-23  Istinye Park          2022              9   \n",
       "32479           Cash   2022-09-13  Istinye Park          2022              9   \n",
       "96366           Cash   2021-10-03        Kanyon          2021             10   \n",
       "...              ...          ...           ...           ...            ...   \n",
       "87725     Debit Card   2021-10-18     Metrocity          2021             10   \n",
       "36537    Credit Card   2021-05-27  Metropol AVM          2021              5   \n",
       "36573           Cash   2021-05-07        Kanyon          2021              5   \n",
       "69858    Credit Card   2022-10-03   Cevahir AVM          2022             10   \n",
       "95607           Cash   2021-03-12        Kanyon          2021              3   \n",
       "\n",
       "       date_invoice   revenue  \n",
       "66026            16  26250.00  \n",
       "32502            28  26250.00  \n",
       "50508            23  26250.00  \n",
       "32479            13  26250.00  \n",
       "96366             3  26250.00  \n",
       "...             ...       ...  \n",
       "87725            18      5.23  \n",
       "36537            27      5.23  \n",
       "36573             7      5.23  \n",
       "69858             3      5.23  \n",
       "95607            12      5.23  \n",
       "\n",
       "[99457 rows x 14 columns]"
      ]
     },
     "execution_count": 20,
     "metadata": {},
     "output_type": "execute_result"
    }
   ],
   "source": [
    "cs.sort_values(by='revenue', ascending=False)"
   ]
  },
  {
   "cell_type": "code",
   "execution_count": 24,
   "id": "7df5d2b4",
   "metadata": {},
   "outputs": [
    {
     "data": {
      "text/plain": [
       "Index(['invoice_no', 'customer_id', 'gender', 'age', 'category', 'quantity',\n",
       "       'price', 'payment_method', 'invoice_date', 'shopping_mall',\n",
       "       'year_invoice', 'month_invoice', 'date_invoice', 'revenue'],\n",
       "      dtype='object')"
      ]
     },
     "execution_count": 24,
     "metadata": {},
     "output_type": "execute_result"
    }
   ],
   "source": [
    "cs.columns"
   ]
  },
  {
   "cell_type": "markdown",
   "id": "68f170f8",
   "metadata": {},
   "source": [
    "20. Visualize Data"
   ]
  },
  {
   "cell_type": "markdown",
   "id": "3f40dec8",
   "metadata": {},
   "source": [
    "a. Payment Method "
   ]
  },
  {
   "cell_type": "code",
   "execution_count": 25,
   "id": "42e65873",
   "metadata": {},
   "outputs": [
    {
     "data": {
      "text/plain": [
       "<seaborn.axisgrid.FacetGrid at 0x7fa74cc97970>"
      ]
     },
     "execution_count": 25,
     "metadata": {},
     "output_type": "execute_result"
    },
    {
     "data": {
      "image/png": "[encoded data removed]",
      "text/plain": [
       "<Figure size 500x500 with 1 Axes>"
      ]
     },
     "metadata": {},
     "output_type": "display_data"
    }
   ],
   "source": [
    "sns.catplot(data=cs, x='payment_method', kind='count')"
   ]
  },
  {
   "cell_type": "markdown",
   "id": "d7714c10",
   "metadata": {},
   "source": [
    "b. Gender"
   ]
  },
  {
   "cell_type": "code",
   "execution_count": 26,
   "id": "ab048945",
   "metadata": {},
   "outputs": [
    {
     "data": {
      "text/plain": [
       "<seaborn.axisgrid.FacetGrid at 0x7fa74f57e200>"
      ]
     },
     "execution_count": 26,
     "metadata": {},
     "output_type": "execute_result"
    },
    {
     "data": {
      "image/png": "[encoded data removed]",
      "text/plain": [
       "<Figure size 500x500 with 1 Axes>"
      ]
     },
     "metadata": {},
     "output_type": "display_data"
    }
   ],
   "source": [
    "plt.figure(figsize=(8, 6))\n",
    "sns.countplot(data=cs, x='gender')\n",
    "plt.title('Count of Customers by Gender')\n",
    "plt.xlabel('Gender')\n",
    "plt.ylabel('Count')\n",
    "plt.show()"
   ]
  },
  {
   "cell_type": "markdown",
   "id": "e6c1e61f",
   "metadata": {},
   "source": [
    "c. Shopping Malls"
   ]
  },
  {
   "cell_type": "code",
   "execution_count": 27,
   "id": "94c1e150",
   "metadata": {},
   "outputs": [
    {
     "data": {
      "text/plain": [
       "<seaborn.axisgrid.FacetGrid at 0x7fa74f5f6e90>"
      ]
     },
     "execution_count": 27,
     "metadata": {},
     "output_type": "execute_result"
    },
    {
     "data": {
      "image/png": "[encoded data removed]",
      "text/plain": [
       "<Figure size 500x500 with 1 Axes>"
      ]
     },
     "metadata": {},
     "output_type": "display_data"
    }
   ],
   "source": [
    "sns.catplot(data=cs, y='shopping_mall', kind='count')"
   ]
  },
  {
   "cell_type": "markdown",
   "id": "fb3f686f",
   "metadata": {},
   "source": [
    "d. Age Distribution of Customers"
   ]
  },
  {
   "cell_type": "code",
   "execution_count": null,
   "id": "91f36525",
   "metadata": {},
   "outputs": [],
   "source": [
    "plt.figure(figsize=(8, 6))\n",
    "sns.histplot(data=cs, x='age', bins=10)\n",
    "plt.title('Age Distribution of Customers')\n",
    "plt.xlabel('Age')\n",
    "plt.ylabel('Count')\n",
    "plt.show()"
   ]
  },
  {
   "cell_type": "markdown",
   "id": "dd60c66d",
   "metadata": {},
   "source": [
    "e. Pie Chart of Distribution of Payment Methods"
   ]
  },
  {
   "cell_type": "code",
   "execution_count": null,
   "id": "fbdb3c2f",
   "metadata": {},
   "outputs": [],
   "source": [
    "payment_counts = cs['payment_method'].value_counts()\n",
    "plt.figure(figsize=(8, 6))\n",
    "plt.pie(payment_counts, labels=payment_counts.index, autopct='%1.1f%%')\n",
    "plt.title('Proportional Distribution of Payment Methods')\n",
    "plt.show()"
   ]
  },
  {
   "cell_type": "markdown",
   "id": "698a7e13",
   "metadata": {},
   "source": [
    "f. Scatterplot showing Relationship between Quantity and Price"
   ]
  },
  {
   "cell_type": "code",
   "execution_count": null,
   "id": "e6017b77",
   "metadata": {},
   "outputs": [],
   "source": [
    "plt.figure(figsize=(8, 6))\n",
    "sns.scatterplot(data=cs, x='quantity', y='price')\n",
    "plt.title('Relationship between Quantity and Price')\n",
    "plt.xlabel('Quantity')\n",
    "plt.ylabel('Price')\n",
    "plt.show()"
   ]
  },
  {
   "cell_type": "markdown",
   "id": "bd3624ee",
   "metadata": {},
   "source": [
    "g. Monthly Sales & Revenue Trend"
   ]
  },
  {
   "cell_type": "code",
   "execution_count": 31,
   "id": "ac003039",
   "metadata": {},
   "outputs": [
    {
     "data": {
      "image/png": "[encoded data removed]",
      "text/plain": [
       "<Figure size 1000x600 with 1 Axes>"
      ]
     },
     "metadata": {},
     "output_type": "display_data"
    },
    {
     "data": {
      "image/png": "[encoded data removed]",
      "text/plain": [
       "<Figure size 1000x600 with 1 Axes>"
      ]
     },
     "metadata": {},
     "output_type": "display_data"
    }
   ],
   "source": [
    "cs['invoice_date'] = pd.to_datetime(cs['invoice_date'])\n",
    "monthly_sales = cs.resample('M', on='invoice_date').size()\n",
    "plt.figure(figsize=(10, 6))\n",
    "plt.plot(monthly_sales)\n",
    "plt.title('Monthly Sales Trend')\n",
    "plt.xlabel('Date')\n",
    "plt.ylabel('Sales')\n",
    "plt.show()\n",
    "\n",
    "\n",
    "monthly_revenue = cs.groupby(['year_invoice', 'month_invoice'])['revenue'].sum()\n",
    "plt.figure(figsize=(10, 6))\n",
    "monthly_revenue.plot()\n",
    "plt.title('Monthly Revenue Trend')\n",
    "plt.xlabel('Month')\n",
    "plt.ylabel('Revenue')\n",
    "plt.show()"
   ]
  },
  {
   "cell_type": "markdown",
   "id": "428be369",
   "metadata": {},
   "source": [
    "h. Category-wise Sales"
   ]
  },
  {
   "cell_type": "code",
   "execution_count": null,
   "id": "e5096759",
   "metadata": {},
   "outputs": [],
   "source": [
    "category_sales = cs.groupby('category')['quantity'].sum()\n",
    "plt.figure(figsize=(10, 6))\n",
    "category_sales.plot(kind='bar', stacked=True)\n",
    "plt.title('Category-wise Sales')\n",
    "plt.xlabel('Category')\n",
    "plt.ylabel('Total Sales')\n",
    "plt.show()"
   ]
  },
  {
   "cell_type": "markdown",
   "id": "c3a86bb5",
   "metadata": {},
   "source": [
    "i. Correlation Matrix: Price, Quantity & Age"
   ]
  },
  {
   "cell_type": "code",
   "execution_count": null,
   "id": "fa311e3e",
   "metadata": {},
   "outputs": [],
   "source": [
    "correlation_matrix = cs[['age', 'quantity', 'price']].corr()\n",
    "plt.figure(figsize=(8, 6))\n",
    "sns.heatmap(correlation_matrix, annot=True, cmap='coolwarm')\n",
    "plt.title('Correlation Matrix')\n",
    "plt.show()"
   ]
  },
  {
   "cell_type": "markdown",
   "id": "d0f5d9d0",
   "metadata": {},
   "source": [
    "j. Price Distribution by Category"
   ]
  },
  {
   "cell_type": "code",
   "execution_count": null,
   "id": "907b17a4",
   "metadata": {},
   "outputs": [],
   "source": [
    "plt.figure(figsize=(10, 6))\n",
    "sns.boxplot(data=cs, x='category', y='price')\n",
    "plt.title('Price Distribution by Category')\n",
    "plt.xlabel('Category')\n",
    "plt.ylabel('Price')\n",
    "plt.show()"
   ]
  },
  {
   "cell_type": "markdown",
   "id": "ba74be30",
   "metadata": {},
   "source": [
    "k. Bar Chart with Error Bars - Mean Price by Category"
   ]
  },
  {
   "cell_type": "code",
   "execution_count": null,
   "id": "05feecfb",
   "metadata": {},
   "outputs": [],
   "source": [
    "plt.figure(figsize=(10, 6))\n",
    "mean_price_by_category.plot(kind='bar', yerr=std_price_by_category)\n",
    "plt.title('Mean Price by Category')\n",
    "plt.xlabel('Category')\n",
    "plt.ylabel('Mean Price')\n",
    "plt.show()\n"
   ]
  },
  {
   "cell_type": "markdown",
   "id": "a9797f7d",
   "metadata": {},
   "source": [
    "l. Price Distribution by Category & Gender"
   ]
  },
  {
   "cell_type": "code",
   "execution_count": null,
   "id": "81048e20",
   "metadata": {},
   "outputs": [],
   "source": [
    "plt.figure(figsize=(10, 6))\n",
    "sns.boxplot(data=cs, x='category', y='price', hue='gender')\n",
    "plt.title('Price Distribution by Category and Gender')\n",
    "plt.xlabel('Category')\n",
    "plt.ylabel('Price')\n",
    "plt.show()"
   ]
  },
  {
   "cell_type": "markdown",
   "id": "a75b0990",
   "metadata": {},
   "source": [
    "m. Count of Invoices by Year"
   ]
  },
  {
   "cell_type": "code",
   "execution_count": null,
   "id": "db8cb0e0",
   "metadata": {},
   "outputs": [],
   "source": [
    "plt.figure(figsize=(8, 6))\n",
    "cs['year_invoice'].value_counts().sort_index().plot(kind='bar')\n",
    "plt.title('Count of Invoices by Year')\n",
    "plt.xlabel('Year')\n",
    "plt.ylabel('Count')\n",
    "plt.show()"
   ]
  },
  {
   "cell_type": "markdown",
   "id": "d4465926",
   "metadata": {},
   "source": [
    "n. Count of Customers by Shopping Mall"
   ]
  },
  {
   "cell_type": "code",
   "execution_count": null,
   "id": "cf4feb56",
   "metadata": {},
   "outputs": [],
   "source": [
    "plt.figure(figsize=(8, 6))\n",
    "cs['shopping_mall'].value_counts().plot(kind='bar')\n",
    "plt.title('Count of Customers by Shopping Mall')\n",
    "plt.xlabel('Shopping Mall')\n",
    "plt.ylabel('Count')\n",
    "plt.show()"
   ]
  },
  {
   "cell_type": "markdown",
   "id": "0a12600a",
   "metadata": {},
   "source": [
    "o. Age Distribution by Gender"
   ]
  },
  {
   "cell_type": "code",
   "execution_count": null,
   "id": "46a30c66",
   "metadata": {},
   "outputs": [],
   "source": [
    "plt.figure(figsize=(8, 6))\n",
    "sns.boxplot(data=cs, x='gender', y='age')\n",
    "plt.title('Age Distribution by Gender')\n",
    "plt.xlabel('Gender')\n",
    "plt.ylabel('Age')\n",
    "plt.show()"
   ]
  },
  {
   "cell_type": "markdown",
   "id": "67ba3994",
   "metadata": {},
   "source": [
    "p. Revenue by Category & Gender"
   ]
  },
  {
   "cell_type": "code",
   "execution_count": null,
   "id": "06c23601",
   "metadata": {},
   "outputs": [],
   "source": [
    "category_gender_revenue = cs.groupby(['category', 'gender'])['revenue'].sum().unstack()\n",
    "plt.figure(figsize=(10, 6))\n",
    "category_gender_revenue.plot(kind='bar', stacked=True)\n",
    "plt.title('Revenue by Category and Gender')\n",
    "plt.xlabel('Category')\n",
    "plt.ylabel('Revenue')\n",
    "plt.show()"
   ]
  },
  {
   "cell_type": "markdown",
   "id": "2439fdc7",
   "metadata": {},
   "source": [
    "q. Relationship b/w Quantity & Revenue"
   ]
  },
  {
   "cell_type": "code",
   "execution_count": null,
   "id": "9689815a",
   "metadata": {},
   "outputs": [],
   "source": [
    "plt.figure(figsize=(8, 6))\n",
    "sns.scatterplot(data=cs, x='quantity', y='revenue')\n",
    "plt.title('Relationship between Quantity and Revenue')\n",
    "plt.xlabel('Quantity')\n",
    "plt.ylabel('Revenue')\n",
    "plt.show()"
   ]
  },
  {
   "cell_type": "markdown",
   "id": "745e1dc5",
   "metadata": {},
   "source": [
    "r. Distribution of Revenue by Payment Method"
   ]
  },
  {
   "cell_type": "code",
   "execution_count": null,
   "id": "a69c829e",
   "metadata": {},
   "outputs": [],
   "source": [
    "plt.figure(figsize=(8, 6))\n",
    "sns.violinplot(data=cs, x='payment_method', y='revenue')\n",
    "plt.title('Distribution of Revenue by Payment Method')\n",
    "plt.xlabel('Payment Method')\n",
    "plt.ylabel('Revenue')\n",
    "plt.show()"
   ]
  },
  {
   "cell_type": "code",
   "execution_count": null,
   "id": "accf19d2",
   "metadata": {},
   "outputs": [],
   "source": [
    "s. Count of Invoices by Day of the Week"
   ]
  },
  {
   "cell_type": "code",
   "execution_count": null,
   "id": "068a2e1c",
   "metadata": {},
   "outputs": [],
   "source": [
    "plt.figure(figsize=(8, 6))\n",
    "cs['date_invoice'] = pd.to_datetime(cs['invoice_date']).dt.day_name()\n",
    "cs['date_invoice'].value_counts().sort_index().plot(kind='bar')\n",
    "plt.title('Count of Invoices by Day of the Week')\n",
    "plt.xlabel('Day of the Week')\n",
    "plt.ylabel('Count')\n",
    "plt.show()"
   ]
  },
  {
   "cell_type": "markdown",
   "id": "dab0fc80",
   "metadata": {},
   "source": [
    "t. Highest Selling Category"
   ]
  },
  {
   "cell_type": "code",
   "execution_count": null,
   "id": "da824274",
   "metadata": {},
   "outputs": [],
   "source": [
    "plt.figure(figsize=(10, 6))\n",
    "highest_selling_category = cs.groupby('category')['quantity'].sum().sort_values(ascending=False)\n",
    "highest_selling_category.plot(kind='bar')\n",
    "plt.title('Highest Selling Category')\n",
    "plt.xlabel('Category')\n",
    "plt.ylabel('Total Quantity Sold')\n",
    "plt.show()"
   ]
  },
  {
   "cell_type": "markdown",
   "id": "2314bf03",
   "metadata": {},
   "source": [
    "u. Quantity by Category"
   ]
  },
  {
   "cell_type": "code",
   "execution_count": 32,
   "id": "c5c22f33",
   "metadata": {},
   "outputs": [
    {
     "data": {
      "image/png": "[encoded data removed]",
      "text/plain": [
       "<Figure size 1000x600 with 1 Axes>"
      ]
     },
     "metadata": {},
     "output_type": "display_data"
    }
   ],
   "source": [
    "plt.figure(figsize=(10, 6))\n",
    "quantity_by_category = cs.groupby('category')['quantity'].sum()\n",
    "quantity_by_category.plot(kind='bar')\n",
    "plt.title('Quantity by Category')\n",
    "plt.xlabel('Category')\n",
    "plt.ylabel('Total Quantity Sold')\n",
    "plt.show()"
   ]
  },
  {
   "cell_type": "markdown",
   "id": "bb882483",
   "metadata": {},
   "source": [
    "v. Revenue by Shopping Mall"
   ]
  },
  {
   "cell_type": "code",
   "execution_count": null,
   "id": "0e94c10f",
   "metadata": {},
   "outputs": [],
   "source": [
    "plt.figure(figsize=(10, 6))\n",
    "revenue_by_mall = cs.groupby('shopping_mall')['revenue'].sum()\n",
    "revenue_by_mall.plot(kind='bar')\n",
    "plt.title('Revenue by Shopping Mall')\n",
    "plt.xlabel('Shopping Mall')\n",
    "plt.ylabel('Revenue')\n",
    "plt.show()"
   ]
  },
  {
   "cell_type": "markdown",
   "id": "23a3a17f",
   "metadata": {},
   "source": [
    "w. Average Price by Category (with Log Transformation)"
   ]
  },
  {
   "cell_type": "code",
   "execution_count": null,
   "id": "9b204411",
   "metadata": {},
   "outputs": [],
   "source": [
    "plt.figure(figsize=(10, 6))\n",
    "price_by_category = cs.groupby('category')['price'].mean()\n",
    "price_by_category.plot(kind='bar')\n",
    "plt.title('Average Price by Category')\n",
    "plt.xlabel('Category')\n",
    "plt.ylabel('Average Price (log scale)')\n",
    "plt.yscale('log')  # Apply logarithmic transformation to the y-axis\n",
    "plt.yticks([1, 10, 100, 1000], ['1', '10', '100', '1000'])  # Set custom y-axis ticks\n",
    "plt.show()"
   ]
  },
  {
   "cell_type": "markdown",
   "id": "b3705f85",
   "metadata": {},
   "source": [
    "x. Quantity by Month Invoice & Shopping Malls (Top 5 Shopping Malls)"
   ]
  },
  {
   "cell_type": "code",
   "execution_count": null,
   "id": "00fb0554",
   "metadata": {},
   "outputs": [],
   "source": [
    "plt.figure(figsize=(10, 6))\n",
    "quantity_by_month_mall = cs_top_malls.groupby(['month_invoice', 'shopping_mall'])['quantity'].sum().unstack()\n",
    "quantity_by_month_mall.plot(kind='bar')\n",
    "plt.title('Quantity by Month Invoice and Shopping Mall (Top 5 Shopping Malls)')\n",
    "plt.xlabel('Month Invoice')\n",
    "plt.ylabel('Total Quantity Sold')\n",
    "plt.show()"
   ]
  },
  {
   "cell_type": "markdown",
   "id": "c76aa2b5",
   "metadata": {},
   "source": [
    "y. Bar Plot - Month & Revenue"
   ]
  },
  {
   "cell_type": "code",
   "execution_count": 21,
   "id": "91adcab3",
   "metadata": {},
   "outputs": [
    {
     "data": {
      "text/plain": [
       "<seaborn.axisgrid.FacetGrid at 0x7fa76b823310>"
      ]
     },
     "execution_count": 21,
     "metadata": {},
     "output_type": "execute_result"
    },
    {
     "data": {
      "image/png": "[encoded data removed]",
      "text/plain": [
       "<Figure size 500x500 with 1 Axes>"
      ]
     },
     "metadata": {},
     "output_type": "display_data"
    }
   ],
   "source": [
    "sns.catplot(data=cs, x='month_invoice',y='revenue', kind='bar')"
   ]
  },
  {
   "cell_type": "markdown",
   "id": "15834187",
   "metadata": {},
   "source": [
    "z. Bar Plot - Year & Revenue"
   ]
  },
  {
   "cell_type": "code",
   "execution_count": 1,
   "id": "9a1ad79c",
   "metadata": {
    "scrolled": true
   },
   "outputs": [
    {
     "ename": "NameError",
     "evalue": "name 'sns' is not defined",
     "output_type": "error",
     "traceback": [
      "\u001b[0;31m---------------------------------------------------------------------------\u001b[0m",
      "\u001b[0;31mNameError\u001b[0m                                 Traceback (most recent call last)",
      "Cell \u001b[0;32mIn[1], line 1\u001b[0m\n\u001b[0;32m----> 1\u001b[0m \u001b[43msns\u001b[49m\u001b[38;5;241m.\u001b[39mcatplot(data\u001b[38;5;241m=\u001b[39mcs, x\u001b[38;5;241m=\u001b[39m\u001b[38;5;124m'\u001b[39m\u001b[38;5;124myear_invoice\u001b[39m\u001b[38;5;124m'\u001b[39m,y\u001b[38;5;241m=\u001b[39m\u001b[38;5;124m'\u001b[39m\u001b[38;5;124mrevenue\u001b[39m\u001b[38;5;124m'\u001b[39m, kind\u001b[38;5;241m=\u001b[39m\u001b[38;5;124m'\u001b[39m\u001b[38;5;124mbox\u001b[39m\u001b[38;5;124m'\u001b[39m)\n",
      "\u001b[0;31mNameError\u001b[0m: name 'sns' is not defined"
     ]
    }
   ],
   "source": [
    "sns.catplot(data=cs, x='year_invoice',y='revenue', kind='box')"
   ]
  },
  {
   "cell_type": "markdown",
   "id": "391429a6",
   "metadata": {},
   "source": [
    "21. Summary Statistics for Revenue by Year - Mean, Median, Standard Deviation, Minimum, Maximum & Count"
   ]
  },
  {
   "cell_type": "code",
   "execution_count": 23,
   "id": "9de8d730",
   "metadata": {
    "scrolled": true
   },
   "outputs": [
    {
     "name": "stdout",
     "output_type": "stream",
     "text": [
      "                     mean  median          std   min      max  count\n",
      "year_invoice                                                        \n",
      "2021          2524.361434  600.17  4190.354105  5.23  26250.0  45382\n",
      "2022          2534.232269  600.17  4247.054376  5.23  26250.0  45551\n",
      "2023          2523.276581  600.17  4261.400250  5.23  26250.0   8524\n"
     ]
    }
   ],
   "source": [
    "print(cs.groupby('year_invoice')['revenue'].agg(['mean', 'median', 'std', 'min', 'max', 'count']))"
   ]
  }
 ],
 "metadata": {
  "kernelspec": {
   "display_name": "Python 3 (ipykernel)",
   "language": "python",
   "name": "python3"
  },
  "language_info": {
   "codemirror_mode": {
    "name": "ipython",
    "version": 3
   },
   "file_extension": ".py",
   "mimetype": "text/x-python",
   "name": "python",
   "nbconvert_exporter": "python",
   "pygments_lexer": "ipython3",
   "version": "3.10.9"
  }
 },
 "nbformat": 4,
 "nbformat_minor": 5
}
